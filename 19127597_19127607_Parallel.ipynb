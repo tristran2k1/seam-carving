{
  "nbformat": 4,
  "nbformat_minor": 0,
  "metadata": {
    "colab": {
      "provenance": []
    },
    "kernelspec": {
      "name": "python3",
      "display_name": "Python 3"
    },
    "language_info": {
      "name": "python"
    },
    "accelerator": "GPU",
    "gpuClass": "standard"
  },
  "cells": [
    {
      "cell_type": "markdown",
      "source": [
        "# Information\n",
        "\n",
        "Tên dự án: Image resize using seam carving\n",
        "\n",
        "Thành viên:\n",
        "  - 19127597 - Trần Khả Trí\n",
        "  - 19127607 - Trần Nguyên Trung"
      ],
      "metadata": {
        "id": "A6ea4_AhnJlY"
      }
    },
    {
      "cell_type": "markdown",
      "source": [
        "## 1. Application description"
      ],
      "metadata": {
        "id": "yK0iRqW9npaS"
      }
    },
    {
      "cell_type": "markdown",
      "source": [
        "### What is your chosen application?\n",
        "Seam carving là một phương pháp thay đổi kích thước ảnh, ý tưởng của thuật toán là loại bỏ những điểm ảnh ít quan trọng trong hình ảnh và giữ lại những điểm ảnh quan trọng để hình ảnh đạt được kích thước cần thiết.\n",
        "- Input: Ảnh có định dạng PNM, tên file kết quả, số seam cần xoá\n",
        "- Output: Ảnh đã được xoá seam\n"
      ],
      "metadata": {
        "id": "tibL5cTtopx4"
      }
    },
    {
      "cell_type": "code",
      "source": [
        "WORKDIR = '/content/seam-carving'\n",
        "!git clone https://github.com/tristran2k1/seam-carving.git $WORKDIR\n",
        "%cd $WORKDIR"
      ],
      "metadata": {
        "colab": {
          "base_uri": "https://localhost:8080/"
        },
        "id": "wnzoRhT-L8pT",
        "outputId": "7272030b-363c-483a-fd95-40dccc238917"
      },
      "execution_count": 1,
      "outputs": [
        {
          "output_type": "stream",
          "name": "stdout",
          "text": [
            "Cloning into '/content/seam-carving'...\n",
            "remote: Enumerating objects: 73, done.\u001b[K\n",
            "remote: Counting objects: 100% (73/73), done.\u001b[K\n",
            "remote: Compressing objects: 100% (43/43), done.\u001b[K\n",
            "remote: Total 73 (delta 26), reused 55 (delta 14), pack-reused 0\u001b[K\n",
            "Unpacking objects: 100% (73/73), done.\n",
            "/content/seam-carving\n"
          ]
        }
      ]
    },
    {
      "cell_type": "markdown",
      "source": [
        "## 2. Sequential implementation"
      ],
      "metadata": {
        "id": "uD-cZNffo3uh"
      }
    },
    {
      "cell_type": "markdown",
      "source": [
        "Phiên bản chạy trên host, các bước thực hiện gồm có:\n",
        "- B1. Đọc ảnh\n",
        "- Lặp lại:\n",
        "  - B2. Chuyển ảnh thành grayscale\n",
        "  - B3. Blur ảnh sử dụng Gaussian Blur\n",
        "  - B4. Detect các điểm cạnh sử dụng Sobel Filter\n",
        "  - B5. Xây dựng Energy Map từ các cạnh theo phương ngang và phương dọc tương ứng\n",
        "  - B6. Từ năng lượng của các điểm ảnh, xâu chuỗi lại thành danh sách các đường (seam). Những đường có ít năng lượng là những đường có ít giá trị đóng góp cho nội dung hình ảnh.\n",
        "  - B7. Loại bỏ các đường có năng lượng thấp."
      ],
      "metadata": {
        "id": "pwdKZMkn-Ufv"
      }
    },
    {
      "cell_type": "code",
      "source": [
        "from numba import cuda\n",
        "major, minor = cuda.get_current_device().compute_capability\n",
        "print(f'GPU compute capability: {major}.{minor}')"
      ],
      "metadata": {
        "colab": {
          "base_uri": "https://localhost:8080/"
        },
        "id": "k8vlZ8oqwFR8",
        "outputId": "27a2b1ac-34b4-462c-f719-876ed98180b3"
      },
      "execution_count": 2,
      "outputs": [
        {
          "output_type": "stream",
          "name": "stdout",
          "text": [
            "GPU compute capability: 7.5\n"
          ]
        }
      ]
    },
    {
      "cell_type": "code",
      "source": [
        "!nvcc -arch=sm_{major}{minor} /content/seam-carving/src/host/host.cu -o host"
      ],
      "metadata": {
        "id": "LZJq_DWswFVM"
      },
      "execution_count": 3,
      "outputs": []
    },
    {
      "cell_type": "code",
      "source": [
        "!./host /content/seam-carving/assets/input.pnm /content/seam-carving/assets/output.pnm 300"
      ],
      "metadata": {
        "colab": {
          "base_uri": "https://localhost:8080/"
        },
        "id": "R7b7gzQSwFXc",
        "outputId": "ce68da0d-bb4d-4c6c-be8b-6df92b052ae0"
      },
      "execution_count": 4,
      "outputs": [
        {
          "output_type": "stream",
          "name": "stdout",
          "text": [
            "Version CPU, 300 seams: 31463.185547 ms\n"
          ]
        }
      ]
    },
    {
      "cell_type": "markdown",
      "source": [
        "### Does it need to speed up?\n",
        "Ứng dụng cần được tăng tốc vì thuật toán seam carving có độ phức tạp lớn khi thực hiện tuần tự(các bước hầu hết có độ phức tạp $O(n^2)$)\n",
        "- Chuyển ảnh thành grayscale tốn $O(n^2)$, các pixel thực hiện độc lập với nhau\n",
        "- Các bước convolution (blur ảnh, tìm cạnh, xây dựng energy map) tốn $O(n^2)$ để thực hiện tích chập trên từng pixel ảnh \n",
        "- Bước quy hoạch động tìm seam có độ quan trọng nhỏ nhất hay xoá 1 seam đã được tìm thấy đều có độ phức tạp $O(n^2)$\n",
        "- Xoá seams tốn $O(n^2)$, từng hàng thực hiện độc lập với nhau. Giống như một phép copy ma trận nhưng không tính những pixel thuộc về seams loại bỏ.\n",
        "\n",
        "**$\\Rightarrow$ Việc áp dụng tính toán song song trong bài toán này là rất phù hợp khi phần lớn các bước chính của thuật toán ta đều có thể song song hoá**"
      ],
      "metadata": {
        "id": "jRb_HxWgovjB"
      }
    },
    {
      "cell_type": "markdown",
      "source": [
        "## 3. Parallel implementation"
      ],
      "metadata": {
        "id": "eJPtxNi8o-2J"
      }
    },
    {
      "cell_type": "code",
      "source": [
        "!nvcc -arch=sm_{major}{minor} /content/seam-carving/src/device_1/device_1.cu -o device_1"
      ],
      "metadata": {
        "id": "Di4cVwGZwFZe"
      },
      "execution_count": 5,
      "outputs": []
    },
    {
      "cell_type": "code",
      "source": [
        "!./device_1 /content/seam-carving/assets/input.pnm /content/seam-carving/assets/output.pnm 300"
      ],
      "metadata": {
        "id": "OqxDuRspLrE5",
        "colab": {
          "base_uri": "https://localhost:8080/"
        },
        "outputId": "4c5be533-c760-45fb-c467-cdf982f8564a"
      },
      "execution_count": 6,
      "outputs": [
        {
          "output_type": "stream",
          "name": "stdout",
          "text": [
            "Version GPU 1, 300 seams: 3122.424561 ms\n"
          ]
        }
      ]
    },
    {
      "cell_type": "markdown",
      "source": [
        "## 4. Parallel implementation + optimization"
      ],
      "metadata": {
        "id": "W8gunHX3pE2H"
      }
    },
    {
      "cell_type": "markdown",
      "source": [
        "## 5. Reflection\n",
        "### What difficulties have you encountered?\n",
        "**Trung**\n",
        "- Gặp khó khăn khi chưa thành thạo với các syntax khi lập trình trên GPU.\n",
        "- Việc tối ưu các version song song.\n",
        "- Hạn chế về thời gian khiến việc thực hiện bị áp lực, chưa được chu đáo, cẩn thận.\n",
        "\n",
        "**Trí**\n",
        "\n",
        "### What have you learned?\n",
        "**Trung**\n",
        "- Teamwork, phối hợp với nhau để thực hiện đồ án.\n",
        "- Cách làm việc chuyên nghiệp hơn, các thành viên sẽ có các buổi họp thảo luận và chia sẻ về phần của mình, có khó khăn gì sẽ được thành viên khác giúp đỡ, thời gian được phân chia rõ ràng cụ thể để thực hiện từng giai đoạn của đồ án.\n",
        "- Tìm kiếm thông tin, tìm hiểu các phương pháp, các thuật toán giúp hoàn thiện đồ án. Việc tìm kiếm thông tin trên internet giúp em hiểu rõ hơn về thuật toán, cách áp dụng và thực hành từ đó rút ra kinh nghiệm cho bản thân để áp dụng vào đồ án.\n",
        "\n",
        "**Trí**\n",
        "\n",
        "### If you had more time, what would you do?\n",
        "- Nếu có thêm thời gian, nhóm có thể sẽ tìm hiểu thêm cách tối ưu song song hoá để đạt được thời gian nhanh nhất và kết quả chính xác nhất."
      ],
      "metadata": {
        "id": "40TC0xzZpJHc"
      }
    },
    {
      "cell_type": "markdown",
      "source": [
        "## 6. References"
      ],
      "metadata": {
        "id": "LPG10aiOpLVD"
      }
    },
    {
      "cell_type": "code",
      "execution_count": 6,
      "metadata": {
        "id": "vW8zJiaxnBBu"
      },
      "outputs": [],
      "source": []
    }
  ]
}